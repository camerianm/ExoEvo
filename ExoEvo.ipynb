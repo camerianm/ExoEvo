{
 "cells": [
  {
   "cell_type": "markdown",
   "metadata": {},
   "source": [
    "This file is intended to test setting up Binder."
   ]
  },
  {
   "cell_type": "code",
   "execution_count": 48,
   "metadata": {},
   "outputs": [],
   "source": [
    "%matplotlib inline\n",
    "import matplotlib.pyplot as plt\n",
    "import seaborn as sns\n",
    "import numpy as np\n",
    "import getall as get"
   ]
  },
  {
   "cell_type": "markdown",
   "metadata": {},
   "source": [
    "## User input values:"
   ]
  },
  {
   "cell_type": "code",
   "execution_count": 32,
   "metadata": {},
   "outputs": [],
   "source": [
    "mineral='olivine'   #Planet composition\n",
    "Mpl=1.0             #Planet mass in Me\n",
    "Rpl=1.0             #Planet radius in Re\n",
    "CMF=0.33            #Core mass fraction\n",
    "CRF=0.5437          #Core radius fraction\n",
    "Qpl=1.0             #Relative heat production per kg mantle, vs Earth\n",
    "Ts=300.0            #Surface temperature in K\n",
    "Tp=1923.0           #starting mantle potential temperature in K\n",
    "t=0.0\n",
    "#U238,U235,Th232,K40=1.0,1.0,1.0,1.0    #Relative abundance of radiogenics, vs earth"
   ]
  },
  {
   "cell_type": "markdown",
   "metadata": {},
   "source": [
    "#### Retrieve unchanging and/or initial properties based on user inputs."
   ]
  },
  {
   "cell_type": "code",
   "execution_count": 27,
   "metadata": {},
   "outputs": [],
   "source": [
    "c1,Ev,visc0=get.TdepVisc(mineral)\n",
    "Mp,Mc,Rp,Rc=get.SIunits(Mpl,CMF,Rpl,CRF)\n",
    "d,Vm,SA,pm,g=get.build(Mp,Mc,Rp,Rc)\n",
    "alpha,cp,k=get.thermals(mineral,Tp)"
   ]
  }
 ],
 "metadata": {
  "kernelspec": {
   "display_name": "Python [default]",
   "language": "python",
   "name": "python3"
  },
  "language_info": {
   "codemirror_mode": {
    "name": "ipython",
    "version": 3
   },
   "file_extension": ".py",
   "mimetype": "text/x-python",
   "name": "python",
   "nbconvert_exporter": "python",
   "pygments_lexer": "ipython3",
   "version": "3.6.5"
  }
 },
 "nbformat": 4,
 "nbformat_minor": 2
}
