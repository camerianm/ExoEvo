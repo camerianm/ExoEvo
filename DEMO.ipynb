{
 "cells": [
  {
   "cell_type": "code",
   "execution_count": null,
   "metadata": {},
   "outputs": [],
   "source": [
    "#Import external packages\n",
    "import numpy as np\n",
    "import matplotlib.pyplot as plt\n",
    "import plotly.express as px\n",
    "import scipy.stats as stats\n",
    "import pandas as pd\n",
    "%matplotlib inline\n",
    "\n",
    "#Import internal packages\n",
    "import evolve\n",
    "import plot\n",
    "import fromexo\n",
    "import getall as get\n",
    "from mineralDB import minerals\n",
    "from constants import *\n",
    "\n",
    "# Convenience functions\n",
    "Pe = lambda n: format(n, '.4e')\n",
    "Pf = lambda n: format(n, '.4f')"
   ]
  },
  {
   "cell_type": "code",
   "execution_count": null,
   "metadata": {},
   "outputs": [],
   "source": [
    "# Should I import planetary params from ExoPlex? If not, my_composition is assumed.\n",
    "ExoPlex='FALSE'\n",
    "method='dynamic'    # dynamic, benchmark, MC, or default parameters? assumes default values for those not provided explicitly \n",
    "ID = method\n",
    "\n",
    "# Where should I send outputs from this run?\n",
    "outfolder = 'OUTPUT/'\n",
    "outfile = 'earth_nomantleFe.csv'\n",
    "\n",
    "# What exoplex file should I import, if there is one, and on what line does the core stop and mantle start?\n",
    "file='earth_nomantleFe_FeMg0.9_0.07_0.9_0.09_0.9.csv'\n",
    "startline=1000"
   ]
  },
  {
   "cell_type": "code",
   "execution_count": null,
   "metadata": {},
   "outputs": [],
   "source": [
    "# Info about your planet - note that Mpl and Rpl are *overwritten* if ExoPlex='TRUE'\n",
    "Tp0=2000.           # starting mantle potential temperature in K        Earth = 1800.0 (initial), 1650 (present)\n",
    "Mpl=1.0             # Planet mass in Me - usually between 0.5 and 5. ignored if ExoPlex = 'TRUE' Earth = 1.0\n",
    "Rpl=1.0             # Relative heat production per kg mantle, vs Earth  Earth = 1.0\n",
    "Qpl=1.0             # Planet's starting radiogenic abundance, per kg mantle\n",
    "Pref=30.0            # reference pressure for thermal calculations, in GPa. If Pref is less than 4, Pref is set to half the CMB pressure.\n",
    "tmax=4.55         # ending time, in Ga - how long to cool the planet         Earth = 4.55\n",
    "my_composition = {'O': 1.0}\n",
    "keepconstant = {'beta': 0.33}\n",
    "\n",
    "planet={'ID': ID, 'Mpl':Mpl, 'Rpl':Rpl, 'Qpl':Qpl, 'Tp0':Tp0, 'Pref':Pref, \n",
    "     'outcols': ['ID', 'time', 'temp', 'Ra', 'H', 'Q', 'Urey', 'viscT', \n",
    "     'visc0', 'Ev', 'log10visc', 'beta'], 'constants': keepconstant, 'method': method,\n",
    "        'Water': None}\n",
    "planet, thermals = get.setup(planet, ExoPlex, file, startline, my_composition)\n",
    "if ExoPlex=='FALSE':\n",
    "    planet.update(DEFAULT)\n",
    "if method=='dynamic':\n",
    "    thermals=get.thermals_at_P_ave(planet['composition'], Pref)\n"
   ]
  },
  {
   "cell_type": "code",
   "execution_count": null,
   "metadata": {},
   "outputs": [],
   "source": [
    "# Evolve your planet over time.\n",
    "Evolution = evolve.ThermEv(planet, thermals, method, planet['Tp0'], tmax)\n",
    "p = plot.evolution_colorcoded(Evolution, 'viscT', 'continuous')"
   ]
  },
  {
   "cell_type": "code",
   "execution_count": null,
   "metadata": {},
   "outputs": [],
   "source": [
    "pd.DataFrame(thermals, columns=['temp', 'alpha', 'Cp', 'k']).plot(x='temp', y='alpha')\n",
    "pd.DataFrame(thermals, columns=['temp', 'alpha', 'Cp', 'k']).plot(x='temp', y='Cp')\n",
    "pd.DataFrame(thermals, columns=['temp', 'alpha', 'Cp', 'k']).plot(x='temp', y='k')"
   ]
  },
  {
   "cell_type": "code",
   "execution_count": null,
   "metadata": {},
   "outputs": [],
   "source": []
  }
 ],
 "metadata": {
  "kernelspec": {
   "display_name": "Python 3",
   "language": "python",
   "name": "python3"
  },
  "language_info": {
   "codemirror_mode": {
    "name": "ipython",
    "version": 3
   },
   "file_extension": ".py",
   "mimetype": "text/x-python",
   "name": "python",
   "nbconvert_exporter": "python",
   "pygments_lexer": "ipython3",
   "version": "3.5.2"
  }
 },
 "nbformat": 4,
 "nbformat_minor": 2
}
